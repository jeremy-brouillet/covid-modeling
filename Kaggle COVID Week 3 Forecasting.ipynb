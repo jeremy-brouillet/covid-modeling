{
 "cells": [
  {
   "cell_type": "code",
   "execution_count": null,
   "metadata": {},
   "outputs": [],
   "source": [
    "#Jeremy Brouillet"
   ]
  },
  {
   "cell_type": "markdown",
   "metadata": {},
   "source": [
    "#### Introduction\n",
    "This notebook is for the Kaggle Competition on COVID forecasting (https://www.kaggle.com/c/covid19-global-forecasting-week-3). The data set is the John Hopkins dataset of COVID confirmed cases and fatalities across the world. The goal of the competition was to predict future confirmed cases and fatalities. \n",
    "\n",
    "#### Choice of model:\n",
    "Based on the inherent mathematics behind the spread of viruses, I chose to use a logistic function to make predictions. We know that initially there was no COVID, and at some point it will saturate as it spreads. In between these extremes, there will be exponential growth followed by a slowdown. Additionally, the logistic model is easily interpretable. \n",
    "\n",
    "#### Disclaimer:\n",
    "I am not an epidimologist. This notebook was strictly meant for a data science competition. It should not be used to inform emergency response or medical practices. "
   ]
  },
  {
   "cell_type": "code",
   "execution_count": 2,
   "metadata": {},
   "outputs": [],
   "source": [
    "import numpy as np\n",
    "import matplotlib.pyplot as plt\n",
    "import seaborn as sns\n",
    "import matplotlib\n",
    "import scipy\n",
    "from sklearn import linear_model\n",
    "from scipy.optimize import curve_fit\n",
    "import math\n",
    "from sklearn.linear_model import LinearRegression"
   ]
  },
  {
   "cell_type": "code",
   "execution_count": 3,
   "metadata": {},
   "outputs": [],
   "source": [
    "# Import data files.\n",
    "train = pd.read_csv('~/projects/kaggle/covid19/input/covid19-global-forecasting-week-3/train.csv')\n",
    "test = pd.read_csv('~/projects/kaggle/covid19/input/covid19-global-forecasting-week-3/test.csv')\n",
    "submission = pd.read_csv('~/projects/kaggle/covid19/input/covid19-global-forecasting-week-3/submission.csv')\n"
   ]
  },
  {
   "cell_type": "code",
   "execution_count": 6,
   "metadata": {},
   "outputs": [],
   "source": [
    "#Rename columns\n",
    "train.rename(columns={'Country_Region':'Country'}, inplace=True)\n",
    "test.rename(columns={'Country_Region':'Country'}, inplace=True)\n",
    "\n",
    "train.rename(columns={'Province_State':'State'}, inplace=True)\n",
    "test.rename(columns={'Province_State':'State'}, inplace=True)\n",
    "\n",
    "train['Date'] = pd.to_datetime(train['Date'], infer_datetime_format=True)\n",
    "test['Date'] = pd.to_datetime(test['Date'], infer_datetime_format=True)\n",
    "\n",
    "#Days were counted from the first global incidence of COVID-19\n",
    "FIRST_COVID_DATE = pd.to_datetime('2019-11-17', infer_datetime_format=True) \n",
    "#Source : https://www.theguardian.com/world/2020/mar/13/first-covid-19-case-happened-in-november-china-government-records-show-report\n",
    "\n",
    "train['DaysNumber']=(train['Date'].map(lambda x: (x - FIRST_COVID_DATE).days))\n",
    "test['DaysNumber']=(test['Date'].map(lambda x: (x - FIRST_COVID_DATE).days))\n"
   ]
  },
  {
   "cell_type": "code",
   "execution_count": 7,
   "metadata": {},
   "outputs": [
    {
     "data": {
      "text/html": [
       "<div>\n",
       "<style scoped>\n",
       "    .dataframe tbody tr th:only-of-type {\n",
       "        vertical-align: middle;\n",
       "    }\n",
       "\n",
       "    .dataframe tbody tr th {\n",
       "        vertical-align: top;\n",
       "    }\n",
       "\n",
       "    .dataframe thead th {\n",
       "        text-align: right;\n",
       "    }\n",
       "</style>\n",
       "<table border=\"1\" class=\"dataframe\">\n",
       "  <thead>\n",
       "    <tr style=\"text-align: right;\">\n",
       "      <th></th>\n",
       "      <th>ForecastId</th>\n",
       "      <th>State</th>\n",
       "      <th>Country</th>\n",
       "      <th>Date</th>\n",
       "      <th>DaysNumber</th>\n",
       "    </tr>\n",
       "  </thead>\n",
       "  <tbody>\n",
       "    <tr>\n",
       "      <th>0</th>\n",
       "      <td>1</td>\n",
       "      <td>NaN</td>\n",
       "      <td>Afghanistan</td>\n",
       "      <td>2020-03-26</td>\n",
       "      <td>130</td>\n",
       "    </tr>\n",
       "    <tr>\n",
       "      <th>1</th>\n",
       "      <td>2</td>\n",
       "      <td>NaN</td>\n",
       "      <td>Afghanistan</td>\n",
       "      <td>2020-03-27</td>\n",
       "      <td>131</td>\n",
       "    </tr>\n",
       "    <tr>\n",
       "      <th>2</th>\n",
       "      <td>3</td>\n",
       "      <td>NaN</td>\n",
       "      <td>Afghanistan</td>\n",
       "      <td>2020-03-28</td>\n",
       "      <td>132</td>\n",
       "    </tr>\n",
       "    <tr>\n",
       "      <th>3</th>\n",
       "      <td>4</td>\n",
       "      <td>NaN</td>\n",
       "      <td>Afghanistan</td>\n",
       "      <td>2020-03-29</td>\n",
       "      <td>133</td>\n",
       "    </tr>\n",
       "    <tr>\n",
       "      <th>4</th>\n",
       "      <td>5</td>\n",
       "      <td>NaN</td>\n",
       "      <td>Afghanistan</td>\n",
       "      <td>2020-03-30</td>\n",
       "      <td>134</td>\n",
       "    </tr>\n",
       "  </tbody>\n",
       "</table>\n",
       "</div>"
      ],
      "text/plain": [
       "   ForecastId State      Country       Date  DaysNumber\n",
       "0           1   NaN  Afghanistan 2020-03-26         130\n",
       "1           2   NaN  Afghanistan 2020-03-27         131\n",
       "2           3   NaN  Afghanistan 2020-03-28         132\n",
       "3           4   NaN  Afghanistan 2020-03-29         133\n",
       "4           5   NaN  Afghanistan 2020-03-30         134"
      ]
     },
     "execution_count": 7,
     "metadata": {},
     "output_type": "execute_result"
    }
   ],
   "source": [
    "test.head()"
   ]
  },
  {
   "cell_type": "code",
   "execution_count": 8,
   "metadata": {},
   "outputs": [
    {
     "data": {
      "text/html": [
       "<div>\n",
       "<style scoped>\n",
       "    .dataframe tbody tr th:only-of-type {\n",
       "        vertical-align: middle;\n",
       "    }\n",
       "\n",
       "    .dataframe tbody tr th {\n",
       "        vertical-align: top;\n",
       "    }\n",
       "\n",
       "    .dataframe thead th {\n",
       "        text-align: right;\n",
       "    }\n",
       "</style>\n",
       "<table border=\"1\" class=\"dataframe\">\n",
       "  <thead>\n",
       "    <tr style=\"text-align: right;\">\n",
       "      <th></th>\n",
       "      <th>Id</th>\n",
       "      <th>State</th>\n",
       "      <th>Country</th>\n",
       "      <th>Date</th>\n",
       "      <th>ConfirmedCases</th>\n",
       "      <th>Fatalities</th>\n",
       "      <th>DaysNumber</th>\n",
       "    </tr>\n",
       "  </thead>\n",
       "  <tbody>\n",
       "    <tr>\n",
       "      <th>0</th>\n",
       "      <td>1</td>\n",
       "      <td>NaN</td>\n",
       "      <td>Afghanistan</td>\n",
       "      <td>2020-01-22</td>\n",
       "      <td>0.0</td>\n",
       "      <td>0.0</td>\n",
       "      <td>66</td>\n",
       "    </tr>\n",
       "    <tr>\n",
       "      <th>1</th>\n",
       "      <td>2</td>\n",
       "      <td>NaN</td>\n",
       "      <td>Afghanistan</td>\n",
       "      <td>2020-01-23</td>\n",
       "      <td>0.0</td>\n",
       "      <td>0.0</td>\n",
       "      <td>67</td>\n",
       "    </tr>\n",
       "    <tr>\n",
       "      <th>2</th>\n",
       "      <td>3</td>\n",
       "      <td>NaN</td>\n",
       "      <td>Afghanistan</td>\n",
       "      <td>2020-01-24</td>\n",
       "      <td>0.0</td>\n",
       "      <td>0.0</td>\n",
       "      <td>68</td>\n",
       "    </tr>\n",
       "    <tr>\n",
       "      <th>3</th>\n",
       "      <td>4</td>\n",
       "      <td>NaN</td>\n",
       "      <td>Afghanistan</td>\n",
       "      <td>2020-01-25</td>\n",
       "      <td>0.0</td>\n",
       "      <td>0.0</td>\n",
       "      <td>69</td>\n",
       "    </tr>\n",
       "    <tr>\n",
       "      <th>4</th>\n",
       "      <td>5</td>\n",
       "      <td>NaN</td>\n",
       "      <td>Afghanistan</td>\n",
       "      <td>2020-01-26</td>\n",
       "      <td>0.0</td>\n",
       "      <td>0.0</td>\n",
       "      <td>70</td>\n",
       "    </tr>\n",
       "  </tbody>\n",
       "</table>\n",
       "</div>"
      ],
      "text/plain": [
       "   Id State      Country       Date  ConfirmedCases  Fatalities  DaysNumber\n",
       "0   1   NaN  Afghanistan 2020-01-22             0.0         0.0          66\n",
       "1   2   NaN  Afghanistan 2020-01-23             0.0         0.0          67\n",
       "2   3   NaN  Afghanistan 2020-01-24             0.0         0.0          68\n",
       "3   4   NaN  Afghanistan 2020-01-25             0.0         0.0          69\n",
       "4   5   NaN  Afghanistan 2020-01-26             0.0         0.0          70"
      ]
     },
     "execution_count": 8,
     "metadata": {},
     "output_type": "execute_result"
    }
   ],
   "source": [
    "train.head()"
   ]
  },
  {
   "cell_type": "code",
   "execution_count": 79,
   "metadata": {
    "scrolled": true
   },
   "outputs": [
    {
     "name": "stdout",
     "output_type": "stream",
     "text": [
      "Empty DataFrame\n",
      "Columns: [ForecastId, ConfirmedCases, Fatalities]\n",
      "Index: []\n"
     ]
    }
   ],
   "source": [
    "#Overall structure:\n",
    "#for country, state\n",
    "    #fit each curve\n",
    "    #make prediction\n",
    "    #estimate log-loss\n",
    "#write output\n",
    "def logisticR(x, a, b, c):\n",
    "     return a / (1 + np.exp(-(x-b)*c))\n",
    "\n",
    "#Initialize submission Calc\n",
    "train_calc = pd.DataFrame(columns = ['ForecastId', 'ConfirmedCases','Fatalities'])\n",
    "test_calc = pd.DataFrame(columns = ['ForecastId', 'ConfirmedCases','Fatalities'])\n",
    "optimalparamsAll = pd.DataFrame(columns = ['Country','State','ParamsFatalities','ParamsCases','CovFatalities','CovCases'])\n",
    "\n",
    "# Find trends by state\n",
    "for country in set(train['Country']):   \n",
    "    train_country = (train.loc[train['Country']==country])\n",
    "    test_country = (test.loc[test['Country']==country])\n",
    "    for state in set(train_country[\"State\"]):\n",
    "        if type(state)==float:\n",
    "            train_state = train_country.loc[train_country['State'].map(lambda x: type(x)==float)]\n",
    "            test_state =  test_country.loc[test_country['State'].map(lambda x: type(x)==float)]\n",
    "            state_name = ''\n",
    "        else:\n",
    "            train_state = (train_country.loc[train_country['State']==state])\n",
    "            test_state = (test_country.loc[test_country['State']==state])\n",
    "            state_name = state\n",
    "\n",
    "# Seperate out train/test data            \n",
    "        xtrain = train_state[\"DaysNumber\"]\n",
    "        ytrainfatalities = train_state[\"Fatalities\"]\n",
    "        ytrainconfirmedcases = train_state[\"ConfirmedCases\"]\n",
    "        xtest = test_state[\"DaysNumber\"]   \n",
    "\n",
    "# Fit data to logistic to a logistic function\n",
    "# Reasonable initial conditions and bounds were chosen.\n",
    "        optimalparamsCC, pcovarianceCC = curve_fit(logisticR, xtrain, ytrainconfirmedcases, maxfev=5000, p0=[0,130,.2], bounds = ([0,0,.08],[2000000,175,1]))\n",
    "        maxDeaths = optimalparamsCC[0]  \n",
    "        \n",
    "#Offsets: Fatalities starting point based on the cases\n",
    "#The number of fatalities will be upper bounded by the number of confirmed cases\n",
    "        startingPoint = [optimalparamsCC[0]*0.03,optimalparamsCC[1]+8,optimalparamsCC[2]]\n",
    "        optimalparamsfatalities, pcovariancefatalities = curve_fit(logisticR, xtrain, ytrainfatalities, maxfev=5000, p0=startingPoint, bounds = ([0,0,.08],[maxDeaths,183,1]))\n",
    "\n",
    "# Calculate out predictions\n",
    "        ytrainestimatedfatalities=logisticR(xtrain, *optimalparamsfatalities)\n",
    "        ytrainestimatedCC=logisticR(xtrain, *optimalparamsCC)\n",
    "        ytestestimatedfatalities=logisticR(xtest, *optimalparamsfatalities)\n",
    "        ytestestimatedCC=logisticR(xtest, *optimalparamsCC)\n",
    "        \n",
    "        train_calc_add = pd.DataFrame(columns = ['Id', 'ConfirmedCases','Fatalities'])\n",
    "        train_calc_add[\"Fatalities\"] = ytrainestimatedfatalities\n",
    "        train_calc_add[\"ConfirmedCases\"] = ytrainestimatedCC\n",
    "        train_calc_add[\"Id\"] = train_state[\"Id\"]\n",
    "        train_calc=train_calc.append(train_calc_add)\n",
    "        \n",
    "        \n",
    "        test_calc_add = pd.DataFrame(columns = ['ForecastId', 'ConfirmedCases','Fatalities'])\n",
    "        test_calc_add[\"Fatalities\"] = ytestestimatedfatalities\n",
    "        test_calc_add[\"ConfirmedCases\"] = ytestestimatedCC\n",
    "        test_calc_add[\"ForecastId\"] = test_state[\"ForecastId\"]\n",
    "        test_calc=test_calc.append(test_calc_add)\n",
    "\n",
    "        optimalparams_add = pd.DataFrame({'Country':[country],'State':[state],'ParamsFatalities':[optimalparamsfatalities],'ParamsCases':[optimalparamsCC],\n",
    "                              'CovFatalities':[pcovariancefatalities],'CovCases':[pcovarianceCC]})\n",
    "        optimalparamsAll = pd.concat([optimalparamsAll, optimalparams_add], ignore_index=True)\n",
    "        \n",
    "test_calc=test_calc.sort_index()\n",
    "train_calc=train_calc.sort_index()"
   ]
  },
  {
   "cell_type": "code",
   "execution_count": 118,
   "metadata": {},
   "outputs": [
    {
     "name": "stdout",
     "output_type": "stream",
     "text": [
      "Error on fatalities: 0.18575919898846788\n",
      "Error on confirmed cases: 0.6265235003640516\n"
     ]
    }
   ],
   "source": [
    "logdifference_fatalities =(np.log(train[\"Fatalities\"]+1)-np.log(train_calc[\"Fatalities\"]+1))\n",
    "RMSLE_train_fatalities = (1/len(train)*sum(logdifference_fatalities**2))**.5\n",
    "logdifference_cases =(np.log(train[\"ConfirmedCases\"]+1)-np.log(train_calc[\"ConfirmedCases\"]+1))\n",
    "RMSLE_train_cases = (1/len(train)*sum(logdifference_cases**2))**.5\n",
    "print(\"Error on fatalities: \" + str(RMSLE_train_fatalities))\n",
    "print(\"Error on confirmed cases: \" + str(RMSLE_train_cases))\n"
   ]
  },
  {
   "cell_type": "code",
   "execution_count": 166,
   "metadata": {},
   "outputs": [],
   "source": [
    "#Submit final results\n",
    "test_calc.to_csv('submission_calc.csv', index = False)"
   ]
  },
  {
   "cell_type": "code",
   "execution_count": 105,
   "metadata": {},
   "outputs": [
    {
     "data": {
      "text/plain": [
       "Text(0.5, 1.0, 'Fatalities in Italy')"
      ]
     },
     "execution_count": 105,
     "metadata": {},
     "output_type": "execute_result"
    },
    {
     "data": {
      "image/png": "[encoded data removed]",
      "text/plain": [
       "<Figure size 432x288 with 1 Axes>"
      ]
     },
     "metadata": {
      "needs_background": "light"
     },
     "output_type": "display_data"
    }
   ],
   "source": [
    "#Below are examples of the predicated results from the model.\n",
    "dfItaly = pd.merge(train_calc,train[train[\"Country\"]==\"Italy\"],on=\"Id\")\n",
    "predFatalitiesItaly = pd.merge(test_calc,test[test[\"Country\"]==\"Italy\"],on=\"ForecastId\")[\"Fatalities\"]\n",
    "plt.plot(dfItaly.index,dfItaly['Fatalities_y'],label='Data')\n",
    "plt.plot(dfItaly.index,dfItaly['Fatalities_x'],label='trainfit')\n",
    "plt.plot(dfItaly.index[-1]-7+predFatalitiesItaly.index,predFatalitiesItaly,label='testfit')\n",
    "plt.legend()\n",
    "plt.ylabel('Fatalities')\n",
    "plt.xlabel('Day')\n",
    "plt.title(\"Fatalities in Italy\")"
   ]
  },
  {
   "cell_type": "code",
   "execution_count": 116,
   "metadata": {},
   "outputs": [
    {
     "data": {
      "text/plain": [
       "Text(0.5, 1.0, 'Fatalities in Spain')"
      ]
     },
     "execution_count": 116,
     "metadata": {},
     "output_type": "execute_result"
    },
    {
     "data": {
      "image/png": "[encoded data removed]",
      "text/plain": [
       "<Figure size 432x288 with 1 Axes>"
      ]
     },
     "metadata": {
      "needs_background": "light"
     },
     "output_type": "display_data"
    }
   ],
   "source": [
    "dfSpain = pd.merge(train_calc,train[train[\"Country\"]==\"Spain\"],on=\"Id\")\n",
    "predFatalitiesSpain = pd.merge(test_calc,test[test[\"Country\"]==\"Spain\"],on=\"ForecastId\")[\"Fatalities\"]\n",
    "plt.plot(dfSpain.index,dfSpain['Fatalities_y'],label='Data')\n",
    "plt.plot(dfSpain.index,dfSpain['Fatalities_x'],label='trainfit')\n",
    "plt.plot(dfSpain.index[-1]-7+predFatalitiesSpain.index,predFatalitiesSpain,label='testfit')\n",
    "plt.legend()\n",
    "plt.ylabel('Fatalities')\n",
    "plt.xlabel('Day')\n",
    "plt.title(\"Fatalities in Spain\")"
   ]
  },
  {
   "cell_type": "markdown",
   "metadata": {},
   "source": [
    "#### Results\n",
    "This notebook placed in the top 17%. The above examples show that the logistic curve fit on the training data fit quite well, as the lines are almost on top of each other.  \n",
    "\n",
    "#### Other approaches:\n",
    "Time series data is often modeled with Auto Regressive Integrated Moving Average (ARIMA). However, the data inherent is unstable, as the second derivative does not go to zero, and succesive differencing would not improve this issue. Therefore, ARIMA does not apply. Another alternative approach would have been to do linear regression on a moving window, using each of the previous data points in as a weight to predict the future steps. Given more time, this possibility could be worth exploring. "
   ]
  }
 ],
 "metadata": {
  "kernelspec": {
   "display_name": "Python 3",
   "language": "python",
   "name": "python3"
  },
  "language_info": {
   "codemirror_mode": {
    "name": "ipython",
    "version": 3
   },
   "file_extension": ".py",
   "mimetype": "text/x-python",
   "name": "python",
   "nbconvert_exporter": "python",
   "pygments_lexer": "ipython3",
   "version": "3.7.6"
  }
 },
 "nbformat": 4,
 "nbformat_minor": 4
}
